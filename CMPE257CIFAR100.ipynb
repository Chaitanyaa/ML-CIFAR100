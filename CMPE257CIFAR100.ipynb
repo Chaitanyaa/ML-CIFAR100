{
  "nbformat": 4,
  "nbformat_minor": 0,
  "metadata": {
    "colab": {
      "name": "CMPE257CIFAR100.ipynb",
      "version": "0.3.2",
      "provenance": [],
      "collapsed_sections": [
        "_xM_bRk9ylQe"
      ],
      "include_colab_link": true
    },
    "kernelspec": {
      "name": "python3",
      "display_name": "Python 3"
    },
    "accelerator": "GPU"
  },
  "cells": [
    {
      "cell_type": "markdown",
      "metadata": {
        "id": "view-in-github",
        "colab_type": "text"
      },
      "source": [
        "<a href=\"https://colab.research.google.com/github/Chaitanyaa/ML-CIFAR100/blob/master/CMPE257CIFAR100.ipynb\" target=\"_parent\"><img src=\"https://colab.research.google.com/assets/colab-badge.svg\" alt=\"Open In Colab\"/></a>"
      ]
    },
    {
      "metadata": {
        "id": "_xM_bRk9ylQe",
        "colab_type": "text"
      },
      "cell_type": "markdown",
      "source": [
        "## Exploring with dowloaded dataset"
      ]
    },
    {
      "metadata": {
        "colab_type": "code",
        "id": "GZInUH4iybSY",
        "colab": {}
      },
      "cell_type": "code",
      "source": [
        "#1 Code to read csv file into colaboratory:\n",
        "!pip install -U -q PyDrive\n",
        "from pydrive.auth import GoogleAuth\n",
        "from pydrive.drive import GoogleDrive\n",
        "from google.colab import auth\n",
        "from oauth2client.client import GoogleCredentials\n",
        "\n",
        "# 1. Authenticate and create the PyDrive client.\n",
        "auth.authenticate_user()\n",
        "gauth = GoogleAuth()\n",
        "gauth.credentials = GoogleCredentials.get_application_default()\n",
        "drive = GoogleDrive(gauth)"
      ],
      "execution_count": 0,
      "outputs": []
    },
    {
      "metadata": {
        "colab_type": "code",
        "id": "8HpFrvQkybIV",
        "colab": {}
      },
      "cell_type": "code",
      "source": [
        "#2. Get the file\n",
        "#make sure you upload all your data files to your Google drive and change share->Advanced->change->anyone with the link can view\n",
        "downloaded = drive.CreateFile({'id':'1IUaJmhnauW0GYZKMFRsvWeHpxahosUe4'}) # replace the id with id of file you want to access\n",
        "downloaded.GetContentFile('train')"
      ],
      "execution_count": 0,
      "outputs": []
    },
    {
      "metadata": {
        "colab_type": "code",
        "id": "GcI7OLqEya-8",
        "colab": {}
      },
      "cell_type": "code",
      "source": [
        "def unpickle(file):\n",
        "    import pickle\n",
        "    with open(file, 'rb') as fo:\n",
        "        dict = pickle.load(fo, encoding='bytes')\n",
        "    return dict"
      ],
      "execution_count": 0,
      "outputs": []
    },
    {
      "metadata": {
        "colab_type": "code",
        "id": "3iMOJXmNya2h",
        "colab": {}
      },
      "cell_type": "code",
      "source": [
        "images = unpickle('train')"
      ],
      "execution_count": 0,
      "outputs": []
    },
    {
      "metadata": {
        "colab_type": "code",
        "id": "oy-_k2zGyaTD",
        "colab": {}
      },
      "cell_type": "code",
      "source": [
        "print(images)"
      ],
      "execution_count": 0,
      "outputs": []
    },
    {
      "metadata": {
        "id": "tHHn9tcrFuLW",
        "colab_type": "code",
        "colab": {}
      },
      "cell_type": "code",
      "source": [
        "images[b'data'].shape"
      ],
      "execution_count": 0,
      "outputs": []
    },
    {
      "metadata": {
        "id": "zVVVH6yWCmWA",
        "colab_type": "code",
        "colab": {}
      },
      "cell_type": "code",
      "source": [
        "import pandas as pd\n",
        "data = pd.DataFrame(images[b'data'])"
      ],
      "execution_count": 0,
      "outputs": []
    },
    {
      "metadata": {
        "id": "-q9MoHRGJoYR",
        "colab_type": "code",
        "colab": {}
      },
      "cell_type": "code",
      "source": [
        "images.keys()"
      ],
      "execution_count": 0,
      "outputs": []
    },
    {
      "metadata": {
        "id": "5BhbUk8nJipH",
        "colab_type": "code",
        "colab": {}
      },
      "cell_type": "code",
      "source": [
        "import numpy as np\n",
        "np.unique(images[b'coarse_labels'])"
      ],
      "execution_count": 0,
      "outputs": []
    },
    {
      "metadata": {
        "id": "GScZr2wiyrOS",
        "colab_type": "text"
      },
      "cell_type": "markdown",
      "source": [
        "## With Cifar-100 dataset in Keras"
      ]
    },
    {
      "metadata": {
        "id": "czpRtrkBzvfU",
        "colab_type": "code",
        "colab": {}
      },
      "cell_type": "code",
      "source": [
        "# install keras first\n",
        "!pip install dill\n",
        "!pip install -q keras"
      ],
      "execution_count": 0,
      "outputs": []
    },
    {
      "metadata": {
        "id": "Q_r3zEYizx3R",
        "colab_type": "code",
        "colab": {}
      },
      "cell_type": "code",
      "source": [
        "import os\n",
        "os.environ[\"THEANO_FLAGS\"] = \"mode=FAST_RUN,device=gpu,floatX=float32\""
      ],
      "execution_count": 0,
      "outputs": []
    },
    {
      "metadata": {
        "id": "0ZbqN-Qfz0Mi",
        "colab_type": "code",
        "colab": {}
      },
      "cell_type": "code",
      "source": [
        "from keras import backend as K\n",
        "if K.backend()=='tensorflow':\n",
        "    K.set_image_dim_ordering(\"th\")"
      ],
      "execution_count": 0,
      "outputs": []
    },
    {
      "metadata": {
        "id": "MBC11wM_z3fn",
        "colab_type": "code",
        "colab": {}
      },
      "cell_type": "code",
      "source": [
        "#batch_size = 1000\n",
        "num_classes = 20\n",
        "'''\n",
        "epochs_longrun = 500\n",
        "save_dir = \"/work\"\n",
        "res_dir = \"/results\"\n",
        "model_name = 'convnet_cifar100'\n",
        "'''"
      ],
      "execution_count": 0,
      "outputs": []
    },
    {
      "metadata": {
        "id": "lsGkHjCcHiaQ",
        "colab_type": "code",
        "colab": {}
      },
      "cell_type": "code",
      "source": [
        "from keras.datasets import cifar100"
      ],
      "execution_count": 0,
      "outputs": []
    },
    {
      "metadata": {
        "id": "vjTGnIvIzj6V",
        "colab_type": "code",
        "colab": {}
      },
      "cell_type": "code",
      "source": [
        "from __future__ import print_function\n",
        "import tensorflow as tf\n",
        "import keras\n",
        "from keras.preprocessing.image import ImageDataGenerator\n",
        "from keras.models import Sequential\n",
        "from keras.layers.core import Dense, Dropout, Flatten\n",
        "from keras.layers.convolutional import Conv2D\n",
        "from keras.optimizers import Adam\n",
        "from keras.layers.pooling import MaxPooling2D\n",
        "from keras.callbacks import ModelCheckpoint,EarlyStopping\n",
        "from keras.utils import to_categorical\n",
        "from keras.models import load_model\n",
        "\n",
        "import os\n",
        "import numpy as np\n",
        "import pandas as pd\n",
        "import matplotlib.pyplot as plt\n",
        "from math import *\n",
        "from sklearn.model_selection import train_test_split\n",
        "from sklearn.preprocessing import StandardScaler\n",
        "import warnings\n",
        "warnings.filterwarnings('ignore')"
      ],
      "execution_count": 0,
      "outputs": []
    },
    {
      "metadata": {
        "id": "BgMZ7iYVGBcS",
        "colab_type": "code",
        "colab": {}
      },
      "cell_type": "code",
      "source": [
        "import tensorflow as tf\n",
        "import numpy as np\n",
        "from keras.utils import to_categorical\n",
        "tf.reset_default_graph()\n",
        "tf.set_random_seed(343)\n",
        "np.random.seed(343)\n",
        "# The data, shuffled and split between train and test sets:\n",
        "(x_train, y_train), (x_test, y_test) = cifar100.load_data(label_mode='coarse')\n",
        "print('x_train shape:', x_train.shape)\n",
        "print(x_train.shape[0], 'train samples')\n",
        "print(x_test.shape[0], 'test samples')"
      ],
      "execution_count": 0,
      "outputs": []
    },
    {
      "metadata": {
        "id": "MMg8ra1gKjyw",
        "colab_type": "code",
        "colab": {}
      },
      "cell_type": "code",
      "source": [
        "#Combining the training and test data back into one data\n",
        "x = np.concatenate((x_train,x_test))\n",
        "y = np.concatenate((y_train,y_test))\n",
        "print('x shape:', x.shape)\n",
        "print('y shape:', y.shape)"
      ],
      "execution_count": 0,
      "outputs": []
    },
    {
      "metadata": {
        "id": "Ue7nWdlwSXO2",
        "colab_type": "code",
        "colab": {}
      },
      "cell_type": "code",
      "source": [
        "# Required subset of data in dataframe\n",
        "x = x.reshape(x.shape[0],3*32*32)\n",
        "images_df = pd.DataFrame(x, columns = list(range(0,3072)))\n",
        "temp = pd.DataFrame(y, columns = ['Target'])\n",
        "images_df = pd.concat([images_df,temp],axis=1)\n",
        "vehicle_images = images_df[(images_df['Target']==18) | (images_df['Target']==19) ]\n",
        "vehicle_images.head()"
      ],
      "execution_count": 0,
      "outputs": []
    },
    {
      "metadata": {
        "id": "rxdr9g5nnOcC",
        "colab_type": "code",
        "colab": {}
      },
      "cell_type": "code",
      "source": [
        "# To view sample data\n",
        "fig = plt.figure(figsize=(10, 10))\n",
        "fig.subplots_adjust(hspace=0.4, wspace=0.4)\n",
        "k=1\n",
        "for i in x[vehicle_images[vehicle_images['Target']==18].sample(16).index]: # Change Target number here ( 18 = Vehicle 1, 19 = Vehicle 2)\n",
        "    ax = fig.add_subplot(4, 4, k)\n",
        "    img = i.reshape(3,32,32).transpose([1, 2, 0])\n",
        "    fig.set_tight_layout(True) \n",
        "    ax=plt.imshow(img)\n",
        "    k=k+1"
      ],
      "execution_count": 0,
      "outputs": []
    },
    {
      "metadata": {
        "id": "eIgiQgmN5bN4",
        "colab_type": "code",
        "colab": {}
      },
      "cell_type": "code",
      "source": [
        "x = vehicle_images.drop(['Target'],axis=1)"
      ],
      "execution_count": 0,
      "outputs": []
    },
    {
      "metadata": {
        "id": "KaAhEVUe7fsg",
        "colab_type": "code",
        "colab": {}
      },
      "cell_type": "code",
      "source": [
        "y = vehicle_images['Target']"
      ],
      "execution_count": 0,
      "outputs": []
    },
    {
      "metadata": {
        "id": "F3jGxpZY5EG7",
        "colab_type": "code",
        "colab": {}
      },
      "cell_type": "code",
      "source": [
        "X_train, X_test, y_train, y_test = train_test_split(x,y,test_size=0.33, random_state=42)"
      ],
      "execution_count": 0,
      "outputs": []
    },
    {
      "metadata": {
        "id": "jD7mkwJRSGB6",
        "colab_type": "code",
        "colab": {}
      },
      "cell_type": "code",
      "source": [
        "y_train.shape"
      ],
      "execution_count": 0,
      "outputs": []
    },
    {
      "metadata": {
        "id": "6uBMLHjgJ2PE",
        "colab_type": "code",
        "colab": {}
      },
      "cell_type": "code",
      "source": [
        "# Convert class vectors to binary class matrices.\n",
        "y_train_c = to_categorical(y_train, num_classes)\n",
        "y_test_c = to_categorical(y_test, num_classes)\n",
        "#Normalize data\n",
        "X_train = X_train.astype('float32')\n",
        "X_test = X_test.astype('float32')\n",
        "X_train /= 255.0\n",
        "X_test /= 255.0"
      ],
      "execution_count": 0,
      "outputs": []
    },
    {
      "metadata": {
        "id": "QPSo5Axg2C1k",
        "colab_type": "code",
        "colab": {}
      },
      "cell_type": "code",
      "source": [
        "model = Sequential()\n",
        "\n",
        "n_input = X_train.shape[1]\n",
        "n_hidden = n_input\n",
        "\n",
        "model.add(Dense(n_hidden*5, input_dim=n_input, activation='sigmoid'))\n",
        "model.add(Dense(n_hidden*3, activation='softmax'))\n",
        "model.add(Dense(1, activation='sigmoid'))#why sigmoid here?"
      ],
      "execution_count": 0,
      "outputs": []
    },
    {
      "metadata": {
        "id": "CE9agMUd7zKi",
        "colab_type": "code",
        "colab": {}
      },
      "cell_type": "code",
      "source": [
        "from keras.optimizers import Adam\n",
        "#compile the model with loss='binary_crossentropy' and optimizer=adam\n",
        "model.compile(loss='binary_crossentropy', optimizer='adam',metrics=['acc'])\n",
        "model.summary()"
      ],
      "execution_count": 0,
      "outputs": []
    },
    {
      "metadata": {
        "id": "PO8D0jwz78pE",
        "colab_type": "code",
        "colab": {}
      },
      "cell_type": "code",
      "source": [
        "#Train the model with X_train, y_train and validation data as X_test, y_test\n",
        "history = model.fit(X_train, y_train, validation_data=(X_test, y_test),epochs=200,batch_size=20,verbose=0);"
      ],
      "execution_count": 0,
      "outputs": []
    },
    {
      "metadata": {
        "id": "EAbBFBsxPSQ-",
        "colab_type": "code",
        "colab": {}
      },
      "cell_type": "code",
      "source": [
        "training_loss = history.history['loss']\n",
        "test_loss = history.history['val_loss']\n",
        "# Create count of the number of epochs\n",
        "epoch_count = range(1, len(training_loss) + 1)\n",
        "# Visualize loss history\n",
        "plt.plot(epoch_count, training_loss, 'r--')\n",
        "plt.plot(epoch_count, test_loss, 'b-')\n",
        "plt.legend(['Training Loss', 'Test Loss'])\n",
        "plt.xlabel('Epoch')\n",
        "plt.ylabel('Loss')\n",
        "plt.show();"
      ],
      "execution_count": 0,
      "outputs": []
    },
    {
      "metadata": {
        "id": "cxQD8hOHVzlI",
        "colab_type": "code",
        "colab": {}
      },
      "cell_type": "code",
      "source": [
        "score =model.evaluate(X_test, y_test,  verbose=0)\n",
        "print('prediction score: %.2f%%' % (score[1]*100)  )"
      ],
      "execution_count": 0,
      "outputs": []
    },
    {
      "metadata": {
        "id": "J1cZMKqHVXuQ",
        "colab_type": "text"
      },
      "cell_type": "markdown",
      "source": [
        "## Prediction with Feedforward Neural Networks\n"
      ]
    },
    {
      "metadata": {
        "id": "1ivel3ueQen2",
        "colab_type": "code",
        "colab": {}
      },
      "cell_type": "code",
      "source": [
        "#Let's review how MLPClassifier got trained and do prediction\n",
        "from sklearn.neural_network import MLPClassifier\n",
        "mlp = MLPClassifier(hidden_layer_sizes=(200), activation='logistic')\n",
        "mlp.fit(X_train, y_train)\n",
        "score =mlp.score(X_test, y_test)\n",
        "print('MLP NN score: %.2f%%' %(score*100))"
      ],
      "execution_count": 0,
      "outputs": []
    }
  ]
}